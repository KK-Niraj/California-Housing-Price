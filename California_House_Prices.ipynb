{
  "nbformat": 4,
  "nbformat_minor": 0,
  "metadata": {
    "colab": {
      "provenance": [],
      "mount_file_id": "1uLUbjRGTUXmX806wnv2TbgyxX_cVt8vU",
      "authorship_tag": "ABX9TyOrpTaz/xZHm4pVlAQwfg0O",
      "include_colab_link": true
    },
    "kernelspec": {
      "name": "python3",
      "display_name": "Python 3"
    },
    "language_info": {
      "name": "python"
    }
  },
  "cells": [
    {
      "cell_type": "markdown",
      "metadata": {
        "id": "view-in-github",
        "colab_type": "text"
      },
      "source": [
        "<a href=\"https://colab.research.google.com/github/KK-Niraj/California-Housing-Price/blob/main/California_House_Prices.ipynb\" target=\"_parent\"><img src=\"https://colab.research.google.com/assets/colab-badge.svg\" alt=\"Open In Colab\"/></a>"
      ]
    },
    {
      "cell_type": "code",
      "execution_count": null,
      "metadata": {
        "id": "mJwqlsEznIV3"
      },
      "outputs": [],
      "source": [
        "/content/drive/MyDrive/Machine Learning Project/California House Prices/housing.csv"
      ]
    }
  ]
}